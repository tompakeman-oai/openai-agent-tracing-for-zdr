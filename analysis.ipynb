{
 "cells": [
  {
   "cell_type": "code",
   "execution_count": null,
   "id": "ce978afa",
   "metadata": {},
   "outputs": [],
   "source": [
    "import sqlite3\n",
    "from pathlib import Path\n",
    "\n",
    "DB_PATH = \"traces_v1.db\"\n",
    "\n",
    "def run_query(query: str, db_path=DB_PATH):\n",
    "    db_path = Path(db_path)\n",
    "    if not db_path.exists():\n",
    "        print(f\"Database {db_path} does not exist.\")\n",
    "        return []\n",
    "    with sqlite3.connect(db_path) as conn:\n",
    "        cursor = conn.cursor()\n",
    "        cursor.execute(query)\n",
    "        return [row for row in cursor.fetchall()]"
   ]
  },
  {
   "cell_type": "code",
   "execution_count": 35,
   "id": "a3fa2bb3",
   "metadata": {},
   "outputs": [
    {
     "name": "stdout",
     "output_type": "stream",
     "text": [
      "Database tracing_v1.db does not exist.\n"
     ]
    }
   ],
   "source": [
    "cols = [\n",
    "    \"s.span_id\",\n",
    "    \"s.trace_id\",\n",
    "    \"s.parent_id\",\n",
    "    \"s.started_at\",\n",
    "    \"s.ended_at\",\n",
    "    \"s.span_data\",\n",
    "    \"s.error\",\n",
    "    \"t.workflow_name\",\n",
    "    \"t.group_id\",\n",
    "    \"t.metadata\",\n",
    "]\n",
    "q = f\"\"\"\n",
    "SELECT {\", \".join(cols)}\n",
    "FROM spans s\n",
    "LEFT JOIN traces t ON s.trace_id = t.trace_id\n",
    "LIMIT 5\n",
    "\"\"\"\n",
    "results = run_query(q)\n",
    "for r in results:\n",
    "    print(dict(zip(cols, r)))"
   ]
  },
  {
   "cell_type": "code",
   "execution_count": null,
   "id": "794ef210",
   "metadata": {},
   "outputs": [],
   "source": []
  }
 ],
 "metadata": {
  "kernelspec": {
   "display_name": ".venv",
   "language": "python",
   "name": "python3"
  },
  "language_info": {
   "codemirror_mode": {
    "name": "ipython",
    "version": 3
   },
   "file_extension": ".py",
   "mimetype": "text/x-python",
   "name": "python",
   "nbconvert_exporter": "python",
   "pygments_lexer": "ipython3",
   "version": "3.12.9"
  }
 },
 "nbformat": 4,
 "nbformat_minor": 5
}
